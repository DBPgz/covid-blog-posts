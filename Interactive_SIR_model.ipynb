{
 "cells": [
  {
   "cell_type": "markdown",
   "metadata": {},
   "source": [
    "The graphic below allows you to model the spread of COVID-19 using the SIR model.  This is a very simple model but has proven surprisingly effective; see [my series of blog posts on the topic](http://davidketcheson.info).  This graphic is meant for educational purposes only and of course I make no guarantees about its ability to forecast real-world infections.\n",
    "\n",
    "**To start the model, click on the computer code below and hit shift+Enter**.\n",
    "\n",
    "The initial conditions for the model are taken from the [JHU CSSE data set](https://github.com/CSSEGISandData/COVID-19) that is updated daily.  For a description of the parameters $\\beta$ and $\\gamma$, see my blog posts, [starting here](http://www.davidketcheson.info/2020/03/17/SIR_model.html).  The other parameters you can adjust are:\n",
    "\n",
    "  - **% of cases confirmed**: The fraction of actual infected individuals that get tested and reported.\n",
    "  - **% of cases critical**: The fraction of actual infected individuals that require critical medical attention.\n",
    "  - **% of cases fatal**: The fraction of actual infected individuals that die from the infection or secondary infections.\n",
    "  - **Use mitigation**: If checked, the model incorporates attempts to reduce the spread of the disease.  This represents the effect of quarantines, closures, etc.\n",
    "  - **Mitigation factor**: If mitigation is enabled, then during the mitigation period the contact rate $\\beta$ is multiplied by this factor.  Corresponds to $q(t)$ in [this blog post](http://www.davidketcheson.info/2020/03/19/SIR_predictions.html).  For instance, a mitigation factor of 0.5 would mean that human contact has been reduced by half.  Of course, this is a very simplified model for mitigation.  In reality, the measures implemented and their effectiveness will vary significantly over time.\n",
    "  - **Mitigation interval**: The mitigation factor is applied over this time period, measured in days from the start of the model (i.e., today).  For instance, \"0-180\" means that mitigation is applied starting from now and for the next 180 days.\n",
    "  \n",
    "You may find it interesting to compare your predictions with [those of a more detailed model used by researchers at Imperial College](https://www.imperial.ac.uk/media/imperial-college/medicine/sph/ide/gida-fellowships/Imperial-College-COVID19-NPI-modelling-16-03-2020.pdf).  Roughly, the estimates there predict the infection peak to occur in early June without mitigation, moving up to 1 month later if substantial mitigation is employed."
   ]
  },
  {
   "cell_type": "code",
   "execution_count": null,
   "metadata": {},
   "outputs": [],
   "source": [
    "%matplotlib inline\n",
    "from SIR import *\n",
    "\n",
    "display(SIR_gui,SIR_output)"
   ]
  }
 ],
 "metadata": {
  "kernelspec": {
   "display_name": "Python 3",
   "language": "python",
   "name": "python3"
  },
  "language_info": {
   "codemirror_mode": {
    "name": "ipython",
    "version": 3
   },
   "file_extension": ".py",
   "mimetype": "text/x-python",
   "name": "python",
   "nbconvert_exporter": "python",
   "pygments_lexer": "ipython3",
   "version": "3.6.5"
  },
  "toc": {
   "base_numbering": 1,
   "nav_menu": {},
   "number_sections": true,
   "sideBar": true,
   "skip_h1_title": false,
   "title_cell": "Table of Contents",
   "title_sidebar": "Contents",
   "toc_cell": false,
   "toc_position": {},
   "toc_section_display": true,
   "toc_window_display": false
  }
 },
 "nbformat": 4,
 "nbformat_minor": 2
}
